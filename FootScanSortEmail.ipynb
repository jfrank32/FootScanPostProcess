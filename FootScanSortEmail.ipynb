{
 "cells": [
  {
   "cell_type": "code",
   "execution_count": 47,
   "id": "17451bbe-43bb-4ad5-b777-d204c817d288",
   "metadata": {},
   "outputs": [],
   "source": [
    "import pandas as pd\n",
    "import numpy as np\n",
    "from tkinter import filedialog as fd\n",
    "\n",
    "#import CSV file from Aetrex\n",
    "fn = fd.askopenfilename()\n",
    "db = pd.read_csv(fn)\n",
    "#db = pd.read_csv(r'C:\\Users\\Jesse Frank\\OneDrive - Specialized Bicycle Components\\Body Geometry team\\Projects\\Aetrex Object Files\\data_management_Specialized Bike Components_2022-04-27 12_37_28.csv') \n",
    "#Sort data based off of seated or standing trials\n",
    "\n",
    "#Seated\n",
    "seated = db[db['Email'].str.contains(\"seated\")==True]\n",
    "seated.to_csv('C:\\\\Users\\\\Jesse Frank\\\\OneDrive - Specialized Bicycle Components\\\\Body Geometry team\\\\Projects\\\\Aetrex Object Files\\\\SeatedSummaryMetrics.csv',mode='a',header=True)\n",
    "\n",
    "#standing\n",
    "standing = db[db['Email'].str.contains(\"standing\")==True]\n",
    "standing.to_csv('C:\\\\Users\\\\Jesse Frank\\\\OneDrive - Specialized Bicycle Components\\\\Body Geometry team\\\\Projects\\\\Aetrex Object Files\\\\StandingSummaryMetrics.csv',mode='a',header=True)"
   ]
  },
  {
   "cell_type": "code",
   "execution_count": 2,
   "id": "ec73ec4d-3aad-4c1a-8005-c1440c61a63f",
   "metadata": {},
   "outputs": [],
   "source": []
  },
  {
   "cell_type": "code",
   "execution_count": 45,
   "id": "8799b2ff-93cb-46a6-862a-999bc7d2757e",
   "metadata": {},
   "outputs": [],
   "source": []
  },
  {
   "cell_type": "code",
   "execution_count": null,
   "id": "43f76b85-68ab-404d-af2e-7403dc3d37a2",
   "metadata": {},
   "outputs": [],
   "source": []
  }
 ],
 "metadata": {
  "kernelspec": {
   "display_name": "Python 3 (ipykernel)",
   "language": "python",
   "name": "python3"
  },
  "language_info": {
   "codemirror_mode": {
    "name": "ipython",
    "version": 3
   },
   "file_extension": ".py",
   "mimetype": "text/x-python",
   "name": "python",
   "nbconvert_exporter": "python",
   "pygments_lexer": "ipython3",
   "version": "3.9.7"
  }
 },
 "nbformat": 4,
 "nbformat_minor": 5
}
