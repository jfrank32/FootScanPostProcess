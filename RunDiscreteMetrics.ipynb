{
 "cells": [
  {
   "cell_type": "code",
   "execution_count": 214,
   "id": "3ff252f9-90cf-4f3b-8915-525860cff65f",
   "metadata": {},
   "outputs": [
    {
     "name": "stdout",
     "output_type": "stream",
     "text": [
      "5_left_foot_gg_seated.npy\n",
      "19.80328106880188\n"
     ]
    }
   ],
   "source": [
    "import numpy as np\n",
    "\n",
    "#np.save('C:\\\\Users\\\\Jesse Frank\\\\OneDrive - Specialized Bicycle Components\\\\Body Geometry team\\\\Projects\\\\Aetrex Object Files\\\\python_files\\\\left_foot_gg_searted.npy','left_foot_GG_Seated.asc')\n",
    "\n",
    "%run test_foot_file_discrete_metrics_v3.py"
   ]
  },
  {
   "cell_type": "code",
   "execution_count": 218,
   "id": "36ac8107-411a-4eba-b61c-ac9d003e62f4",
   "metadata": {},
   "outputs": [],
   "source": [
    "fname = 'C:\\\\Users\\\\Jesse Frank\\\\OneDrive - Specialized Bicycle Components\\\\Body Geometry team\\\\Projects\\\\Aetrex Object Files\\\\python_files\\\\right_foot_GG_Seated.obj'\n",
    "tt = np.array('C:\\\\Users\\\\Jesse Frank\\\\OneDrive - Specialized Bicycle Components\\\\Body Geometry team\\\\Projects\\\\Aetrex Object Files\\\\python_files\\\\left_foot_GG_Seated.obj')"
   ]
  },
  {
   "cell_type": "code",
   "execution_count": 175,
   "id": "9aa37236-7e1a-4644-857a-3da49ed8abd2",
   "metadata": {},
   "outputs": [
    {
     "data": {
      "text/plain": [
       "array('C:\\\\Users\\\\Jesse Frank\\\\OneDrive - Specialized Bicycle Components\\\\Body Geometry team\\\\Projects\\\\Aetrex Object Files\\\\python_files\\\\left_foot_GG_Seated.obj',\n",
       "      dtype='<U147')"
      ]
     },
     "execution_count": 175,
     "metadata": {},
     "output_type": "execute_result"
    }
   ],
   "source": []
  },
  {
   "cell_type": "code",
   "execution_count": 136,
   "id": "b5220545-36ce-411d-b517-df196c0611da",
   "metadata": {},
   "outputs": [],
   "source": [
    "aa = np.load('C:\\\\Users\\\\Jesse Frank\\\\OneDrive - Specialized Bicycle Components\\\\Body Geometry team\\\\Projects\\\\Aetrex Object Files\\\\python_files\\\\Daniel Feeney Right_info.npy', allow_pickle = True)"
   ]
  },
  {
   "cell_type": "code",
   "execution_count": 138,
   "id": "3d0600ee-b990-4432-8d82-e040aa55785e",
   "metadata": {},
   "outputs": [
    {
     "data": {
      "text/plain": [
       "array([array([[5.30907e-02, 6.91470e-02, 4.28009e-05],\n",
       "              [5.53687e-02, 6.96561e-02, 1.58359e-05],\n",
       "              [5.53839e-02, 6.74535e-02, 5.56118e-05],\n",
       "              ...,\n",
       "              [8.61589e-02, 2.97784e-01, 9.60787e-02],\n",
       "              [8.53536e-02, 2.97179e-01, 9.92781e-02],\n",
       "              [8.26772e-02, 2.99276e-01, 9.90673e-02]]),\n",
       "       array([[   0,    1,    2],\n",
       "              [   3,    0,    2],\n",
       "              [   4,    1,    0],\n",
       "              ...,\n",
       "              [6332, 6331, 6327],\n",
       "              [6328, 6335, 6334],\n",
       "              [6333, 6328, 6334]]),\n",
       "       array([[-9.28327e-03, -2.01028e-02, -9.99755e-01,  5.30907e-02,\n",
       "                6.91470e-02,  4.28009e-05],\n",
       "              [-9.28327e-03, -2.01028e-02, -9.99755e-01,  5.53687e-02,\n",
       "                6.96561e-02,  1.58359e-05],\n",
       "              [-9.28327e-03, -2.01028e-02, -9.99755e-01,  5.53839e-02,\n",
       "                6.74535e-02,  5.56118e-05],\n",
       "              ...,\n",
       "              [ 5.87620e-01,  7.47263e-01,  3.10324e-01,  8.61589e-02,\n",
       "                2.97784e-01,  9.60787e-02],\n",
       "              [ 5.87620e-01,  7.47263e-01,  3.10324e-01,  8.34164e-02,\n",
       "                3.00004e-01,  9.61479e-02],\n",
       "              [ 5.87620e-01,  7.47263e-01,  3.10324e-01,  8.53536e-02,\n",
       "                2.97179e-01,  9.92781e-02]])                          ],\n",
       "      dtype=object)"
      ]
     },
     "execution_count": 138,
     "metadata": {},
     "output_type": "execute_result"
    }
   ],
   "source": [
    "aa"
   ]
  },
  {
   "cell_type": "code",
   "execution_count": 152,
   "id": "14e03f37-aedc-4e1a-9c94-728c52f0a314",
   "metadata": {},
   "outputs": [],
   "source": [
    "import openmesh as om"
   ]
  },
  {
   "cell_type": "code",
   "execution_count": 157,
   "id": "a1c205b1-5089-4f05-b844-3dff3fe10bcd",
   "metadata": {},
   "outputs": [
    {
     "name": "stdout",
     "output_type": "stream",
     "text": [
      "<openmesh.TriMesh object at 0x0000026D5C4C1B70>\n"
     ]
    }
   ],
   "source": [
    "testM = om.read_trimesh(fname)\n",
    "print(testM)"
   ]
  },
  {
   "cell_type": "code",
   "execution_count": 179,
   "id": "2ac345bf-a27f-4805-9c14-ccff4030dc4b",
   "metadata": {},
   "outputs": [
    {
     "data": {
      "text/plain": [
       "array(<openmesh.TriMesh object at 0x0000026D5C4C1B70>, dtype=object)"
      ]
     },
     "execution_count": 179,
     "metadata": {},
     "output_type": "execute_result"
    }
   ],
   "source": [
    "tt = np.array(testM)\n",
    "tt"
   ]
  },
  {
   "cell_type": "code",
   "execution_count": 182,
   "id": "e4d19e95-e1a5-469c-851f-954fbcb918b1",
   "metadata": {},
   "outputs": [],
   "source": [
    "color_array = testM.vertex_property_array('Normal')\n",
    "#np.save('C:\\\\Users\\\\Jesse Frank\\\\OneDrive - Specialized Bicycle Components\\\\Body Geometry team\\\\Projects\\\\Aetrex Object Files\\\\python_files\\\\4_left_foot_gg_seated.npy',color_array)\n",
    "np.save('tester',color_array)"
   ]
  },
  {
   "cell_type": "code",
   "execution_count": 184,
   "id": "85bbe9a8-737b-427a-b2d3-852b09ea1bf6",
   "metadata": {},
   "outputs": [
    {
     "data": {
      "text/plain": [
       "array([nan, nan, nan, ..., nan, nan, nan])"
      ]
     },
     "execution_count": 184,
     "metadata": {},
     "output_type": "execute_result"
    }
   ],
   "source": []
  },
  {
   "cell_type": "code",
   "execution_count": 171,
   "id": "dc94d4de-cef6-4a8e-ba1a-9e81a41b1077",
   "metadata": {},
   "outputs": [
    {
     "data": {
      "text/plain": [
       "array([nan, nan, nan, ..., nan, nan, nan])"
      ]
     },
     "execution_count": 171,
     "metadata": {},
     "output_type": "execute_result"
    }
   ],
   "source": [
    "bb = np.load('C:\\\\Users\\\\Jesse Frank\\\\OneDrive - Specialized Bicycle Components\\\\Body Geometry team\\\\Projects\\\\Aetrex Object Files\\\\python_files\\\\4_left_foot_gg_seated.npy')\n",
    "bb"
   ]
  },
  {
   "cell_type": "code",
   "execution_count": 62,
   "id": "b11fac61-0f84-4b59-8d3e-2af6244f699b",
   "metadata": {},
   "outputs": [],
   "source": [
    "import pyglet\n",
    "import pywavefront as pwave\n",
    "from pywavefront import visualization"
   ]
  },
  {
   "cell_type": "code",
   "execution_count": 112,
   "id": "85716dab-0ea6-4cf6-8ca4-11f3890b9e4b",
   "metadata": {},
   "outputs": [],
   "source": [
    "obj = pwave.Wavefront(fname,collect_faces=True, parse = True)\n"
   ]
  },
  {
   "cell_type": "code",
   "execution_count": 113,
   "id": "4103cbf6-7b41-4a0c-8dd6-346198329cbd",
   "metadata": {},
   "outputs": [
    {
     "data": {
      "text/plain": [
       "<pywavefront.wavefront.Wavefront at 0x26d5ad5b3d0>"
      ]
     },
     "execution_count": 113,
     "metadata": {},
     "output_type": "execute_result"
    }
   ],
   "source": [
    "obj"
   ]
  },
  {
   "cell_type": "code",
   "execution_count": 216,
   "id": "3a50d0ce-92f1-4c74-8d1f-aa51d5077d4b",
   "metadata": {},
   "outputs": [
    {
     "data": {
      "text/plain": [
       "array(<pywavefront.wavefront.Wavefront object at 0x0000026D5AD5B3D0>,\n",
       "      dtype=object)"
      ]
     },
     "execution_count": 216,
     "metadata": {},
     "output_type": "execute_result"
    }
   ],
   "source": [
    "aa = np.array(obj)\n",
    "aa"
   ]
  },
  {
   "cell_type": "code",
   "execution_count": 161,
   "id": "947420bf-3ad2-4cab-bb02-562b31a566c4",
   "metadata": {},
   "outputs": [],
   "source": [
    "np.save('C:\\\\Users\\\\Jesse Frank\\\\OneDrive - Specialized Bicycle Components\\\\Body Geometry team\\\\Projects\\\\Aetrex Object Files\\\\python_files\\\\1_left_foot_gg_seated.npy', fname, allow_pickle = True)"
   ]
  },
  {
   "cell_type": "code",
   "execution_count": 103,
   "id": "d257b77e-2792-4a8f-92f6-f41c534ee6d8",
   "metadata": {},
   "outputs": [],
   "source": [
    "# Iterate vertex data collected in each material\n",
    "for name, material in obj.materials.items():\n",
    "    # Contains the vertex format (string) such as \"T2F_N3F_V3F\"\n",
    "    # T2F, C3F, N3F and V3F may appear in this string\n",
    "    material.vertex_format\n",
    "    # Contains the vertex list of floats in the format described above\n",
    "    material.vertices\n",
    "    # Material properties\n",
    "    material.diffuse\n",
    "    material.ambient\n",
    "    material.texture"
   ]
  },
  {
   "cell_type": "code",
   "execution_count": 63,
   "id": "10f83acd-81a3-4a03-a6f2-203ffc91901b",
   "metadata": {},
   "outputs": [],
   "source": [
    "window = pyglet.window.Window(800, 520,caption='3D Face', resizable=False)\n",
    "visualization.draw(test)"
   ]
  },
  {
   "cell_type": "code",
   "execution_count": 111,
   "id": "c1dbc6bb-7899-43ce-8008-d1a328899415",
   "metadata": {},
   "outputs": [],
   "source": [
    "material.texture"
   ]
  },
  {
   "cell_type": "code",
   "execution_count": 125,
   "id": "762b4a01-9895-49ea-904b-5833ecabb544",
   "metadata": {
    "tags": []
   },
   "outputs": [],
   "source": [
    "import pandas as pd\n",
    "col_names = ['col1','col2','col3','col4','col5']\n",
    "obj_test = pd.read_csv(fname, sep=\"\\s+\", names = col_names)"
   ]
  },
  {
   "cell_type": "code",
   "execution_count": 126,
   "id": "933ae16d-187d-4279-8a78-41946767126a",
   "metadata": {},
   "outputs": [
    {
     "name": "stdout",
     "output_type": "stream",
     "text": [
      "      col1        col2        col3        col4        col5\n",
      "0        v    0.289346   0.0637892  0.00242001         NaN\n",
      "1        v    0.289558   0.0665683  0.00246076         NaN\n",
      "2        v    0.292281   0.0656155  0.00255228         NaN\n",
      "3        v    0.291293    0.063968  0.00262356         NaN\n",
      "4        v    0.286302    0.065838  0.00248566         NaN\n",
      "...    ...         ...         ...         ...         ...\n",
      "19209    f  6397//6400  6401//6400  6379//6400  6399//6400\n",
      "19210    f  6378//6401  6400//6401  6373//6401  6399//6401\n",
      "19211    f  6402//6402  6396//6402  6406//6402  6403//6402\n",
      "19212    f  6405//6403  6404//6403  6383//6403  6403//6403\n",
      "19213    f  6406//6404  6392//6404  6405//6404  6403//6404\n",
      "\n",
      "[19214 rows x 5 columns]\n"
     ]
    }
   ],
   "source": [
    "print(obj_test)"
   ]
  },
  {
   "cell_type": "code",
   "execution_count": 127,
   "id": "a1de58a4-4185-47fb-abfe-b63192b2c495",
   "metadata": {},
   "outputs": [],
   "source": [
    "np.save('C:\\\\Users\\\\Jesse Frank\\\\OneDrive - Specialized Bicycle Components\\\\Body Geometry team\\\\Projects\\\\Aetrex Object Files\\\\python_files\\\\2_left_foot_gg_seated.npy', obj_test)"
   ]
  },
  {
   "cell_type": "code",
   "execution_count": 128,
   "id": "58fb7fbb-61d1-4a06-8b11-ea64ffee8848",
   "metadata": {},
   "outputs": [
    {
     "name": "stdout",
     "output_type": "stream",
     "text": [
      "[['v' '0.289346' '0.0637892' '0.00242001' nan]\n",
      " ['v' '0.289558' '0.0665683' '0.00246076' nan]\n",
      " ['v' '0.292281' '0.0656155' '0.00255228' nan]\n",
      " ...\n",
      " ['f' '6402//6402' '6396//6402' '6406//6402' '6403//6402']\n",
      " ['f' '6405//6403' '6404//6403' '6383//6403' '6403//6403']\n",
      " ['f' '6406//6404' '6392//6404' '6405//6404' '6403//6404']]\n"
     ]
    }
   ],
   "source": [
    "bb = np.load('C:\\\\Users\\\\Jesse Frank\\\\OneDrive - Specialized Bicycle Components\\\\Body Geometry team\\\\Projects\\\\Aetrex Object Files\\\\python_files\\\\2_left_foot_gg_seated.npy', allow_pickle = True)\n",
    "print(bb)"
   ]
  },
  {
   "cell_type": "code",
   "execution_count": 150,
   "id": "24c4343a-b68e-42a6-9bb9-62648972fba8",
   "metadata": {
    "collapsed": true,
    "jupyter": {
     "outputs_hidden": true
    },
    "tags": []
   },
   "outputs": [
    {
     "ename": "AssertionError",
     "evalue": "File too large, got 825636150 triangles which exceeds the maximum of 100000000",
     "output_type": "error",
     "traceback": [
      "\u001b[1;31m---------------------------------------------------------------------------\u001b[0m",
      "\u001b[1;31mAssertionError\u001b[0m                            Traceback (most recent call last)",
      "\u001b[1;32mC:\\Users\\JESSEF~1\\AppData\\Local\\Temp/ipykernel_39208/740164791.py\u001b[0m in \u001b[0;36m<module>\u001b[1;34m\u001b[0m\n\u001b[0;32m      1\u001b[0m \u001b[1;32mfrom\u001b[0m \u001b[0mstl\u001b[0m \u001b[1;32mimport\u001b[0m \u001b[0mmesh\u001b[0m\u001b[1;33m\u001b[0m\u001b[1;33m\u001b[0m\u001b[0m\n\u001b[1;32m----> 2\u001b[1;33m \u001b[0mmpc\u001b[0m \u001b[1;33m=\u001b[0m \u001b[0mmesh\u001b[0m\u001b[1;33m.\u001b[0m\u001b[0mMesh\u001b[0m\u001b[1;33m.\u001b[0m\u001b[0mfrom_file\u001b[0m\u001b[1;33m(\u001b[0m\u001b[0mfname\u001b[0m\u001b[1;33m)\u001b[0m\u001b[1;33m\u001b[0m\u001b[1;33m\u001b[0m\u001b[0m\n\u001b[0m",
      "\u001b[1;32m~\\anaconda3\\lib\\site-packages\\stl\\stl.py\u001b[0m in \u001b[0;36mfrom_file\u001b[1;34m(cls, filename, calculate_normals, fh, mode, speedups, **kwargs)\u001b[0m\n\u001b[0;32m    375\u001b[0m         \u001b[1;32melse\u001b[0m\u001b[1;33m:\u001b[0m\u001b[1;33m\u001b[0m\u001b[1;33m\u001b[0m\u001b[0m\n\u001b[0;32m    376\u001b[0m             \u001b[1;32mwith\u001b[0m \u001b[0mopen\u001b[0m\u001b[1;33m(\u001b[0m\u001b[0mfilename\u001b[0m\u001b[1;33m,\u001b[0m \u001b[1;34m'rb'\u001b[0m\u001b[1;33m)\u001b[0m \u001b[1;32mas\u001b[0m \u001b[0mfh\u001b[0m\u001b[1;33m:\u001b[0m\u001b[1;33m\u001b[0m\u001b[1;33m\u001b[0m\u001b[0m\n\u001b[1;32m--> 377\u001b[1;33m                 name, data = cls.load(\n\u001b[0m\u001b[0;32m    378\u001b[0m                     fh, mode=mode, speedups=speedups)\n\u001b[0;32m    379\u001b[0m \u001b[1;33m\u001b[0m\u001b[0m\n",
      "\u001b[1;32m~\\anaconda3\\lib\\site-packages\\stl\\stl.py\u001b[0m in \u001b[0;36mload\u001b[1;34m(cls, fh, mode, speedups)\u001b[0m\n\u001b[0;32m     92\u001b[0m                                                       check_size=True)\n\u001b[0;32m     93\u001b[0m             \u001b[1;32melse\u001b[0m\u001b[1;33m:\u001b[0m\u001b[1;33m\u001b[0m\u001b[1;33m\u001b[0m\u001b[0m\n\u001b[1;32m---> 94\u001b[1;33m                 \u001b[0mname\u001b[0m\u001b[1;33m,\u001b[0m \u001b[0mdata\u001b[0m \u001b[1;33m=\u001b[0m \u001b[0mcls\u001b[0m\u001b[1;33m.\u001b[0m\u001b[0m_load_binary\u001b[0m\u001b[1;33m(\u001b[0m\u001b[0mfh\u001b[0m\u001b[1;33m,\u001b[0m \u001b[0mheader\u001b[0m\u001b[1;33m)\u001b[0m\u001b[1;33m\u001b[0m\u001b[1;33m\u001b[0m\u001b[0m\n\u001b[0m\u001b[0;32m     95\u001b[0m         \u001b[1;32melif\u001b[0m \u001b[0mmode\u001b[0m \u001b[1;32mis\u001b[0m \u001b[0mASCII\u001b[0m\u001b[1;33m:\u001b[0m\u001b[1;33m\u001b[0m\u001b[1;33m\u001b[0m\u001b[0m\n\u001b[0;32m     96\u001b[0m             \u001b[0mname\u001b[0m\u001b[1;33m,\u001b[0m \u001b[0mdata\u001b[0m \u001b[1;33m=\u001b[0m \u001b[0mcls\u001b[0m\u001b[1;33m.\u001b[0m\u001b[0m_load_ascii\u001b[0m\u001b[1;33m(\u001b[0m\u001b[0mfh\u001b[0m\u001b[1;33m,\u001b[0m \u001b[0mheader\u001b[0m\u001b[1;33m,\u001b[0m \u001b[0mspeedups\u001b[0m\u001b[1;33m=\u001b[0m\u001b[0mspeedups\u001b[0m\u001b[1;33m)\u001b[0m\u001b[1;33m\u001b[0m\u001b[1;33m\u001b[0m\u001b[0m\n",
      "\u001b[1;32m~\\anaconda3\\lib\\site-packages\\stl\\stl.py\u001b[0m in \u001b[0;36m_load_binary\u001b[1;34m(cls, fh, header, check_size)\u001b[0m\n\u001b[0;32m    109\u001b[0m             \u001b[0mcount\u001b[0m\u001b[1;33m,\u001b[0m \u001b[1;33m=\u001b[0m \u001b[0mstruct\u001b[0m\u001b[1;33m.\u001b[0m\u001b[0munpack\u001b[0m\u001b[1;33m(\u001b[0m\u001b[0ms\u001b[0m\u001b[1;33m(\u001b[0m\u001b[1;34m'<i'\u001b[0m\u001b[1;33m)\u001b[0m\u001b[1;33m,\u001b[0m \u001b[0mb\u001b[0m\u001b[1;33m(\u001b[0m\u001b[0mcount_data\u001b[0m\u001b[1;33m)\u001b[0m\u001b[1;33m)\u001b[0m\u001b[1;33m\u001b[0m\u001b[1;33m\u001b[0m\u001b[0m\n\u001b[0;32m    110\u001b[0m         \u001b[1;31m# raise RuntimeError()\u001b[0m\u001b[1;33m\u001b[0m\u001b[1;33m\u001b[0m\u001b[0m\n\u001b[1;32m--> 111\u001b[1;33m         assert count < MAX_COUNT, ('File too large, got %d triangles which '\n\u001b[0m\u001b[0;32m    112\u001b[0m                                    \u001b[1;34m'exceeds the maximum of %d'\u001b[0m\u001b[1;33m)\u001b[0m \u001b[1;33m%\u001b[0m \u001b[1;33m(\u001b[0m\u001b[1;33m\u001b[0m\u001b[1;33m\u001b[0m\u001b[0m\n\u001b[0;32m    113\u001b[0m                                        count, MAX_COUNT)\n",
      "\u001b[1;31mAssertionError\u001b[0m: File too large, got 825636150 triangles which exceeds the maximum of 100000000"
     ]
    }
   ],
   "source": [
    "from stl import mesh\n",
    "mpc = mesh.Mesh.from_file(fname)"
   ]
  },
  {
   "cell_type": "code",
   "execution_count": 219,
   "id": "bf23bda9-c15a-48fb-ae17-74138ec3ef4a",
   "metadata": {},
   "outputs": [
    {
     "name": "stdout",
     "output_type": "stream",
     "text": [
      "PyntCloud\n",
      "6462 points with 3 scalar fields\n",
      "6460 faces in mesh\n",
      "0 kdtrees\n",
      "0 voxelgrids\n",
      "Centroid: 0.07862287759780884, 0.20311841368675232, 0.034206390380859375\n",
      "Other attributes:\n",
      "\n"
     ]
    }
   ],
   "source": [
    "mpc = PyntCloud.from_file(fname)\n",
    "print(mpc)"
   ]
  },
  {
   "cell_type": "code",
   "execution_count": 220,
   "id": "9830c1d0-a9bd-49fe-9315-a3995a11e1d2",
   "metadata": {},
   "outputs": [
    {
     "data": {
      "text/plain": [
       "['points']"
      ]
     },
     "execution_count": 220,
     "metadata": {},
     "output_type": "execute_result"
    }
   ],
   "source": [
    "mpc.to_file('C:\\\\Users\\\\Jesse Frank\\\\OneDrive - Specialized Bicycle Components\\\\Body Geometry team\\\\Projects\\\\Aetrex Object Files\\\\python_files\\\\4_right_foot_gg_seated.npz')\n",
    "bb = np.load('C:\\\\Users\\\\Jesse Frank\\\\OneDrive - Specialized Bicycle Components\\\\Body Geometry team\\\\Projects\\\\Aetrex Object Files\\\\python_files\\\\4_right_foot_gg_seated.npz',allow_pickle = True)\n",
    "bb.files"
   ]
  },
  {
   "cell_type": "code",
   "execution_count": 222,
   "id": "2c2190fb-b767-4781-98fb-e9c262b38918",
   "metadata": {},
   "outputs": [],
   "source": [
    "bb['points']\n",
    "np.save('C:\\\\Users\\\\Jesse Frank\\\\OneDrive - Specialized Bicycle Components\\\\Body Geometry team\\\\Projects\\\\Aetrex Object Files\\\\python_files\\\\5_right_foot_gg_seated.npy',bb['points'])"
   ]
  },
  {
   "cell_type": "code",
   "execution_count": 224,
   "id": "f8c1449e-d10f-4b98-ab35-499e9b6b57f2",
   "metadata": {},
   "outputs": [],
   "source": [
    "v_f_n = np.load('C:\\\\Users\\\\Jesse Frank\\\\OneDrive - Specialized Bicycle Components\\\\Body Geometry team\\\\Projects\\\\Aetrex Object Files\\\\python_files\\\\5_right_foot_gg_seated.npy',allow_pickle = True)"
   ]
  },
  {
   "cell_type": "code",
   "execution_count": 225,
   "id": "b64fc275-58aa-4deb-9dd6-8f9922725b32",
   "metadata": {},
   "outputs": [],
   "source": [
    "point_cloud = v_f_n[0]\n",
    "faces = v_f_n[1]\n",
    "normals = v_f_n[2]"
   ]
  },
  {
   "cell_type": "code",
   "execution_count": 228,
   "id": "5dadb0a9-7c16-4a55-9113-36e7e586ae35",
   "metadata": {},
   "outputs": [
    {
     "data": {
      "text/plain": [
       "(0.05689, 0.0810047, 0.00132736, 0.206594, 0.199813, -0.957807)"
      ]
     },
     "execution_count": 228,
     "metadata": {},
     "output_type": "execute_result"
    }
   ],
   "source": [
    "normals"
   ]
  },
  {
   "cell_type": "code",
   "execution_count": null,
   "id": "33fbb46e-e4da-4b1e-927d-9690b1bf3444",
   "metadata": {},
   "outputs": [],
   "source": []
  }
 ],
 "metadata": {
  "kernelspec": {
   "display_name": "Python 3 (ipykernel)",
   "language": "python",
   "name": "python3"
  },
  "language_info": {
   "codemirror_mode": {
    "name": "ipython",
    "version": 3
   },
   "file_extension": ".py",
   "mimetype": "text/x-python",
   "name": "python",
   "nbconvert_exporter": "python",
   "pygments_lexer": "ipython3",
   "version": "3.9.7"
  }
 },
 "nbformat": 4,
 "nbformat_minor": 5
}
