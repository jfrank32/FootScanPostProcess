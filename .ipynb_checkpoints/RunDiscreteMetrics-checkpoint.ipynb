{
 "cells": [
  {
   "cell_type": "code",
   "execution_count": 231,
   "id": "3ff252f9-90cf-4f3b-8915-525860cff65f",
   "metadata": {},
   "outputs": [
    {
     "name": "stderr",
     "output_type": "stream",
     "text": [
      "C:\\Users\\Jesse Frank\\Repositories\\FootScanPostProcess\\test_save_obj_files.py:28: VisibleDeprecationWarning: Creating an ndarray from ragged nested sequences (which is a list-or-tuple of lists-or-tuples-or ndarrays with different lengths or shapes) is deprecated. If you meant to do this, you must specify 'dtype=object' when creating the ndarray.\n",
      "  v_f_n = np.array([np.array(obj.vertices),np.array(obj.mesh_list[0].faces),n_f])\n"
     ]
    }
   ],
   "source": [
    "#Run script to convert .obj files to .npy\n",
    "%run test_save_obj_files.py\n",
    "\n",
    "#Runs scripts to calculate metrics\n",
    "%run test_foot_file_discrete_metrics_v3.py"
   ]
  }
 ],
 "metadata": {
  "kernelspec": {
   "display_name": "Python 3 (ipykernel)",
   "language": "python",
   "name": "python3"
  },
  "language_info": {
   "codemirror_mode": {
    "name": "ipython",
    "version": 3
   },
   "file_extension": ".py",
   "mimetype": "text/x-python",
   "name": "python",
   "nbconvert_exporter": "python",
   "pygments_lexer": "ipython3",
   "version": "3.9.7"
  }
 },
 "nbformat": 4,
 "nbformat_minor": 5
}
