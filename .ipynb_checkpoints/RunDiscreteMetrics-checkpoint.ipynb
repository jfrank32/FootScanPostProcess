{
 "cells": [
  {
   "cell_type": "code",
   "execution_count": 129,
   "id": "3ff252f9-90cf-4f3b-8915-525860cff65f",
   "metadata": {},
   "outputs": [
    {
     "name": "stdout",
     "output_type": "stream",
     "text": [
      "2_left_foot_gg_seated.npy\n",
      "10.149636030197144\n"
     ]
    }
   ],
   "source": [
    "import numpy as np\n",
    "\n",
    "#np.save('C:\\\\Users\\\\Jesse Frank\\\\OneDrive - Specialized Bicycle Components\\\\Body Geometry team\\\\Projects\\\\Aetrex Object Files\\\\python_files\\\\left_foot_gg_searted.npy','left_foot_GG_Seated.asc')\n",
    "\n",
    "%run test_foot_file_discrete_metrics_v3.py"
   ]
  },
  {
   "cell_type": "code",
   "execution_count": 50,
   "id": "36ac8107-411a-4eba-b61c-ac9d003e62f4",
   "metadata": {},
   "outputs": [],
   "source": [
    "fname = 'C:\\\\Users\\\\Jesse Frank\\\\OneDrive - Specialized Bicycle Components\\\\Body Geometry team\\\\Projects\\\\Aetrex Object Files\\\\python_files\\\\left_foot_GG_Seated.obj'\n",
    "tt = np.array('C:\\\\Users\\\\Jesse Frank\\\\OneDrive - Specialized Bicycle Components\\\\Body Geometry team\\\\Projects\\\\Aetrex Object Files\\\\python_files\\\\left_foot_GG_Seated.obj')"
   ]
  },
  {
   "cell_type": "code",
   "execution_count": 136,
   "id": "b5220545-36ce-411d-b517-df196c0611da",
   "metadata": {},
   "outputs": [],
   "source": [
    "aa = np.load('C:\\\\Users\\\\Jesse Frank\\\\OneDrive - Specialized Bicycle Components\\\\Body Geometry team\\\\Projects\\\\Aetrex Object Files\\\\python_files\\\\Daniel Feeney Right_info.npy', allow_pickle = True)"
   ]
  },
  {
   "cell_type": "code",
   "execution_count": 138,
   "id": "3d0600ee-b990-4432-8d82-e040aa55785e",
   "metadata": {},
   "outputs": [
    {
     "data": {
      "text/plain": [
       "array([array([[5.30907e-02, 6.91470e-02, 4.28009e-05],\n",
       "              [5.53687e-02, 6.96561e-02, 1.58359e-05],\n",
       "              [5.53839e-02, 6.74535e-02, 5.56118e-05],\n",
       "              ...,\n",
       "              [8.61589e-02, 2.97784e-01, 9.60787e-02],\n",
       "              [8.53536e-02, 2.97179e-01, 9.92781e-02],\n",
       "              [8.26772e-02, 2.99276e-01, 9.90673e-02]]),\n",
       "       array([[   0,    1,    2],\n",
       "              [   3,    0,    2],\n",
       "              [   4,    1,    0],\n",
       "              ...,\n",
       "              [6332, 6331, 6327],\n",
       "              [6328, 6335, 6334],\n",
       "              [6333, 6328, 6334]]),\n",
       "       array([[-9.28327e-03, -2.01028e-02, -9.99755e-01,  5.30907e-02,\n",
       "                6.91470e-02,  4.28009e-05],\n",
       "              [-9.28327e-03, -2.01028e-02, -9.99755e-01,  5.53687e-02,\n",
       "                6.96561e-02,  1.58359e-05],\n",
       "              [-9.28327e-03, -2.01028e-02, -9.99755e-01,  5.53839e-02,\n",
       "                6.74535e-02,  5.56118e-05],\n",
       "              ...,\n",
       "              [ 5.87620e-01,  7.47263e-01,  3.10324e-01,  8.61589e-02,\n",
       "                2.97784e-01,  9.60787e-02],\n",
       "              [ 5.87620e-01,  7.47263e-01,  3.10324e-01,  8.34164e-02,\n",
       "                3.00004e-01,  9.61479e-02],\n",
       "              [ 5.87620e-01,  7.47263e-01,  3.10324e-01,  8.53536e-02,\n",
       "                2.97179e-01,  9.92781e-02]])                          ],\n",
       "      dtype=object)"
      ]
     },
     "execution_count": 138,
     "metadata": {},
     "output_type": "execute_result"
    }
   ],
   "source": [
    "aa"
   ]
  },
  {
   "cell_type": "code",
   "execution_count": 62,
   "id": "b11fac61-0f84-4b59-8d3e-2af6244f699b",
   "metadata": {},
   "outputs": [],
   "source": [
    "import pyglet\n",
    "import pywavefront as pwave\n",
    "from pywavefront import visualization"
   ]
  },
  {
   "cell_type": "code",
   "execution_count": 112,
   "id": "85716dab-0ea6-4cf6-8ca4-11f3890b9e4b",
   "metadata": {},
   "outputs": [],
   "source": [
    "obj = pwave.Wavefront(fname,collect_faces=True, parse = True)\n"
   ]
  },
  {
   "cell_type": "code",
   "execution_count": 113,
   "id": "4103cbf6-7b41-4a0c-8dd6-346198329cbd",
   "metadata": {},
   "outputs": [
    {
     "data": {
      "text/plain": [
       "<pywavefront.wavefront.Wavefront at 0x26d5ad5b3d0>"
      ]
     },
     "execution_count": 113,
     "metadata": {},
     "output_type": "execute_result"
    }
   ],
   "source": [
    "obj"
   ]
  },
  {
   "cell_type": "code",
   "execution_count": 131,
   "id": "3a50d0ce-92f1-4c74-8d1f-aa51d5077d4b",
   "metadata": {},
   "outputs": [
    {
     "data": {
      "text/plain": [
       "array(<pywavefront.wavefront.Wavefront object at 0x0000026D5AD5B3D0>,\n",
       "      dtype=object)"
      ]
     },
     "execution_count": 131,
     "metadata": {},
     "output_type": "execute_result"
    }
   ],
   "source": [
    "aa = np.array(obj)\n",
    "aa"
   ]
  },
  {
   "cell_type": "code",
   "execution_count": 132,
   "id": "947420bf-3ad2-4cab-bb02-562b31a566c4",
   "metadata": {},
   "outputs": [
    {
     "ename": "TypeError",
     "evalue": "cannot pickle 'generator' object",
     "output_type": "error",
     "traceback": [
      "\u001b[1;31m---------------------------------------------------------------------------\u001b[0m",
      "\u001b[1;31mTypeError\u001b[0m                                 Traceback (most recent call last)",
      "\u001b[1;32mC:\\Users\\JESSEF~1\\AppData\\Local\\Temp/ipykernel_39208/651396212.py\u001b[0m in \u001b[0;36m<module>\u001b[1;34m\u001b[0m\n\u001b[1;32m----> 1\u001b[1;33m \u001b[0mnp\u001b[0m\u001b[1;33m.\u001b[0m\u001b[0msave\u001b[0m\u001b[1;33m(\u001b[0m\u001b[1;34m'C:\\\\Users\\\\Jesse Frank\\\\OneDrive - Specialized Bicycle Components\\\\Body Geometry team\\\\Projects\\\\Aetrex Object Files\\\\python_files\\\\1_left_foot_gg_seated.npy'\u001b[0m\u001b[1;33m,\u001b[0m \u001b[0maa\u001b[0m\u001b[1;33m)\u001b[0m\u001b[1;33m\u001b[0m\u001b[1;33m\u001b[0m\u001b[0m\n\u001b[0m",
      "\u001b[1;32m<__array_function__ internals>\u001b[0m in \u001b[0;36msave\u001b[1;34m(*args, **kwargs)\u001b[0m\n",
      "\u001b[1;32m~\\anaconda3\\lib\\site-packages\\numpy\\lib\\npyio.py\u001b[0m in \u001b[0;36msave\u001b[1;34m(file, arr, allow_pickle, fix_imports)\u001b[0m\n\u001b[0;32m    527\u001b[0m     \u001b[1;32mwith\u001b[0m \u001b[0mfile_ctx\u001b[0m \u001b[1;32mas\u001b[0m \u001b[0mfid\u001b[0m\u001b[1;33m:\u001b[0m\u001b[1;33m\u001b[0m\u001b[1;33m\u001b[0m\u001b[0m\n\u001b[0;32m    528\u001b[0m         \u001b[0marr\u001b[0m \u001b[1;33m=\u001b[0m \u001b[0mnp\u001b[0m\u001b[1;33m.\u001b[0m\u001b[0masanyarray\u001b[0m\u001b[1;33m(\u001b[0m\u001b[0marr\u001b[0m\u001b[1;33m)\u001b[0m\u001b[1;33m\u001b[0m\u001b[1;33m\u001b[0m\u001b[0m\n\u001b[1;32m--> 529\u001b[1;33m         format.write_array(fid, arr, allow_pickle=allow_pickle,\n\u001b[0m\u001b[0;32m    530\u001b[0m                            pickle_kwargs=dict(fix_imports=fix_imports))\n\u001b[0;32m    531\u001b[0m \u001b[1;33m\u001b[0m\u001b[0m\n",
      "\u001b[1;32m~\\anaconda3\\lib\\site-packages\\numpy\\lib\\format.py\u001b[0m in \u001b[0;36mwrite_array\u001b[1;34m(fp, array, version, allow_pickle, pickle_kwargs)\u001b[0m\n\u001b[0;32m    674\u001b[0m         \u001b[1;32mif\u001b[0m \u001b[0mpickle_kwargs\u001b[0m \u001b[1;32mis\u001b[0m \u001b[1;32mNone\u001b[0m\u001b[1;33m:\u001b[0m\u001b[1;33m\u001b[0m\u001b[1;33m\u001b[0m\u001b[0m\n\u001b[0;32m    675\u001b[0m             \u001b[0mpickle_kwargs\u001b[0m \u001b[1;33m=\u001b[0m \u001b[1;33m{\u001b[0m\u001b[1;33m}\u001b[0m\u001b[1;33m\u001b[0m\u001b[1;33m\u001b[0m\u001b[0m\n\u001b[1;32m--> 676\u001b[1;33m         \u001b[0mpickle\u001b[0m\u001b[1;33m.\u001b[0m\u001b[0mdump\u001b[0m\u001b[1;33m(\u001b[0m\u001b[0marray\u001b[0m\u001b[1;33m,\u001b[0m \u001b[0mfp\u001b[0m\u001b[1;33m,\u001b[0m \u001b[0mprotocol\u001b[0m\u001b[1;33m=\u001b[0m\u001b[1;36m3\u001b[0m\u001b[1;33m,\u001b[0m \u001b[1;33m**\u001b[0m\u001b[0mpickle_kwargs\u001b[0m\u001b[1;33m)\u001b[0m\u001b[1;33m\u001b[0m\u001b[1;33m\u001b[0m\u001b[0m\n\u001b[0m\u001b[0;32m    677\u001b[0m     \u001b[1;32melif\u001b[0m \u001b[0marray\u001b[0m\u001b[1;33m.\u001b[0m\u001b[0mflags\u001b[0m\u001b[1;33m.\u001b[0m\u001b[0mf_contiguous\u001b[0m \u001b[1;32mand\u001b[0m \u001b[1;32mnot\u001b[0m \u001b[0marray\u001b[0m\u001b[1;33m.\u001b[0m\u001b[0mflags\u001b[0m\u001b[1;33m.\u001b[0m\u001b[0mc_contiguous\u001b[0m\u001b[1;33m:\u001b[0m\u001b[1;33m\u001b[0m\u001b[1;33m\u001b[0m\u001b[0m\n\u001b[0;32m    678\u001b[0m         \u001b[1;32mif\u001b[0m \u001b[0misfileobj\u001b[0m\u001b[1;33m(\u001b[0m\u001b[0mfp\u001b[0m\u001b[1;33m)\u001b[0m\u001b[1;33m:\u001b[0m\u001b[1;33m\u001b[0m\u001b[1;33m\u001b[0m\u001b[0m\n",
      "\u001b[1;31mTypeError\u001b[0m: cannot pickle 'generator' object"
     ]
    }
   ],
   "source": [
    "np.save('C:\\\\Users\\\\Jesse Frank\\\\OneDrive - Specialized Bicycle Components\\\\Body Geometry team\\\\Projects\\\\Aetrex Object Files\\\\python_files\\\\1_left_foot_gg_seated.npy', aa)"
   ]
  },
  {
   "cell_type": "code",
   "execution_count": 103,
   "id": "d257b77e-2792-4a8f-92f6-f41c534ee6d8",
   "metadata": {},
   "outputs": [],
   "source": [
    "# Iterate vertex data collected in each material\n",
    "for name, material in obj.materials.items():\n",
    "    # Contains the vertex format (string) such as \"T2F_N3F_V3F\"\n",
    "    # T2F, C3F, N3F and V3F may appear in this string\n",
    "    material.vertex_format\n",
    "    # Contains the vertex list of floats in the format described above\n",
    "    material.vertices\n",
    "    # Material properties\n",
    "    material.diffuse\n",
    "    material.ambient\n",
    "    material.texture"
   ]
  },
  {
   "cell_type": "code",
   "execution_count": 63,
   "id": "10f83acd-81a3-4a03-a6f2-203ffc91901b",
   "metadata": {},
   "outputs": [],
   "source": [
    "window = pyglet.window.Window(800, 520,caption='3D Face', resizable=False)\n",
    "visualization.draw(test)"
   ]
  },
  {
   "cell_type": "code",
   "execution_count": 111,
   "id": "c1dbc6bb-7899-43ce-8008-d1a328899415",
   "metadata": {},
   "outputs": [],
   "source": [
    "material.texture"
   ]
  },
  {
   "cell_type": "code",
   "execution_count": 114,
   "id": "eb9af89f-58c7-4910-bec0-90dc12d38339",
   "metadata": {},
   "outputs": [
    {
     "ename": "TypeError",
     "evalue": "cannot pickle 'generator' object",
     "output_type": "error",
     "traceback": [
      "\u001b[1;31m---------------------------------------------------------------------------\u001b[0m",
      "\u001b[1;31mTypeError\u001b[0m                                 Traceback (most recent call last)",
      "\u001b[1;32mC:\\Users\\JESSEF~1\\AppData\\Local\\Temp/ipykernel_39208/1466421448.py\u001b[0m in \u001b[0;36m<module>\u001b[1;34m\u001b[0m\n\u001b[1;32m----> 1\u001b[1;33m \u001b[0mnp\u001b[0m\u001b[1;33m.\u001b[0m\u001b[0msave\u001b[0m\u001b[1;33m(\u001b[0m\u001b[1;34m'C:\\\\Users\\\\Jesse Frank\\\\OneDrive - Specialized Bicycle Components\\\\Body Geometry team\\\\Projects\\\\Aetrex Object Files\\\\python_files\\\\1_left_foot_gg_seated.npy'\u001b[0m\u001b[1;33m,\u001b[0m \u001b[0mobj\u001b[0m\u001b[1;33m)\u001b[0m\u001b[1;33m\u001b[0m\u001b[1;33m\u001b[0m\u001b[0m\n\u001b[0m",
      "\u001b[1;32m<__array_function__ internals>\u001b[0m in \u001b[0;36msave\u001b[1;34m(*args, **kwargs)\u001b[0m\n",
      "\u001b[1;32m~\\anaconda3\\lib\\site-packages\\numpy\\lib\\npyio.py\u001b[0m in \u001b[0;36msave\u001b[1;34m(file, arr, allow_pickle, fix_imports)\u001b[0m\n\u001b[0;32m    527\u001b[0m     \u001b[1;32mwith\u001b[0m \u001b[0mfile_ctx\u001b[0m \u001b[1;32mas\u001b[0m \u001b[0mfid\u001b[0m\u001b[1;33m:\u001b[0m\u001b[1;33m\u001b[0m\u001b[1;33m\u001b[0m\u001b[0m\n\u001b[0;32m    528\u001b[0m         \u001b[0marr\u001b[0m \u001b[1;33m=\u001b[0m \u001b[0mnp\u001b[0m\u001b[1;33m.\u001b[0m\u001b[0masanyarray\u001b[0m\u001b[1;33m(\u001b[0m\u001b[0marr\u001b[0m\u001b[1;33m)\u001b[0m\u001b[1;33m\u001b[0m\u001b[1;33m\u001b[0m\u001b[0m\n\u001b[1;32m--> 529\u001b[1;33m         format.write_array(fid, arr, allow_pickle=allow_pickle,\n\u001b[0m\u001b[0;32m    530\u001b[0m                            pickle_kwargs=dict(fix_imports=fix_imports))\n\u001b[0;32m    531\u001b[0m \u001b[1;33m\u001b[0m\u001b[0m\n",
      "\u001b[1;32m~\\anaconda3\\lib\\site-packages\\numpy\\lib\\format.py\u001b[0m in \u001b[0;36mwrite_array\u001b[1;34m(fp, array, version, allow_pickle, pickle_kwargs)\u001b[0m\n\u001b[0;32m    674\u001b[0m         \u001b[1;32mif\u001b[0m \u001b[0mpickle_kwargs\u001b[0m \u001b[1;32mis\u001b[0m \u001b[1;32mNone\u001b[0m\u001b[1;33m:\u001b[0m\u001b[1;33m\u001b[0m\u001b[1;33m\u001b[0m\u001b[0m\n\u001b[0;32m    675\u001b[0m             \u001b[0mpickle_kwargs\u001b[0m \u001b[1;33m=\u001b[0m \u001b[1;33m{\u001b[0m\u001b[1;33m}\u001b[0m\u001b[1;33m\u001b[0m\u001b[1;33m\u001b[0m\u001b[0m\n\u001b[1;32m--> 676\u001b[1;33m         \u001b[0mpickle\u001b[0m\u001b[1;33m.\u001b[0m\u001b[0mdump\u001b[0m\u001b[1;33m(\u001b[0m\u001b[0marray\u001b[0m\u001b[1;33m,\u001b[0m \u001b[0mfp\u001b[0m\u001b[1;33m,\u001b[0m \u001b[0mprotocol\u001b[0m\u001b[1;33m=\u001b[0m\u001b[1;36m3\u001b[0m\u001b[1;33m,\u001b[0m \u001b[1;33m**\u001b[0m\u001b[0mpickle_kwargs\u001b[0m\u001b[1;33m)\u001b[0m\u001b[1;33m\u001b[0m\u001b[1;33m\u001b[0m\u001b[0m\n\u001b[0m\u001b[0;32m    677\u001b[0m     \u001b[1;32melif\u001b[0m \u001b[0marray\u001b[0m\u001b[1;33m.\u001b[0m\u001b[0mflags\u001b[0m\u001b[1;33m.\u001b[0m\u001b[0mf_contiguous\u001b[0m \u001b[1;32mand\u001b[0m \u001b[1;32mnot\u001b[0m \u001b[0marray\u001b[0m\u001b[1;33m.\u001b[0m\u001b[0mflags\u001b[0m\u001b[1;33m.\u001b[0m\u001b[0mc_contiguous\u001b[0m\u001b[1;33m:\u001b[0m\u001b[1;33m\u001b[0m\u001b[1;33m\u001b[0m\u001b[0m\n\u001b[0;32m    678\u001b[0m         \u001b[1;32mif\u001b[0m \u001b[0misfileobj\u001b[0m\u001b[1;33m(\u001b[0m\u001b[0mfp\u001b[0m\u001b[1;33m)\u001b[0m\u001b[1;33m:\u001b[0m\u001b[1;33m\u001b[0m\u001b[1;33m\u001b[0m\u001b[0m\n",
      "\u001b[1;31mTypeError\u001b[0m: cannot pickle 'generator' object"
     ]
    }
   ],
   "source": [
    "np.save('C:\\\\Users\\\\Jesse Frank\\\\OneDrive - Specialized Bicycle Components\\\\Body Geometry team\\\\Projects\\\\Aetrex Object Files\\\\python_files\\\\1_left_foot_gg_seated.npy', obj)"
   ]
  },
  {
   "cell_type": "code",
   "execution_count": 125,
   "id": "762b4a01-9895-49ea-904b-5833ecabb544",
   "metadata": {
    "tags": []
   },
   "outputs": [],
   "source": [
    "import pandas as pd\n",
    "col_names = ['col1','col2','col3','col4','col5']\n",
    "obj_test = pd.read_csv(fname, sep=\"\\s+\", names = col_names)"
   ]
  },
  {
   "cell_type": "code",
   "execution_count": 126,
   "id": "933ae16d-187d-4279-8a78-41946767126a",
   "metadata": {},
   "outputs": [
    {
     "name": "stdout",
     "output_type": "stream",
     "text": [
      "      col1        col2        col3        col4        col5\n",
      "0        v    0.289346   0.0637892  0.00242001         NaN\n",
      "1        v    0.289558   0.0665683  0.00246076         NaN\n",
      "2        v    0.292281   0.0656155  0.00255228         NaN\n",
      "3        v    0.291293    0.063968  0.00262356         NaN\n",
      "4        v    0.286302    0.065838  0.00248566         NaN\n",
      "...    ...         ...         ...         ...         ...\n",
      "19209    f  6397//6400  6401//6400  6379//6400  6399//6400\n",
      "19210    f  6378//6401  6400//6401  6373//6401  6399//6401\n",
      "19211    f  6402//6402  6396//6402  6406//6402  6403//6402\n",
      "19212    f  6405//6403  6404//6403  6383//6403  6403//6403\n",
      "19213    f  6406//6404  6392//6404  6405//6404  6403//6404\n",
      "\n",
      "[19214 rows x 5 columns]\n"
     ]
    }
   ],
   "source": [
    "print(obj_test)"
   ]
  },
  {
   "cell_type": "code",
   "execution_count": 127,
   "id": "a1de58a4-4185-47fb-abfe-b63192b2c495",
   "metadata": {},
   "outputs": [],
   "source": [
    "np.save('C:\\\\Users\\\\Jesse Frank\\\\OneDrive - Specialized Bicycle Components\\\\Body Geometry team\\\\Projects\\\\Aetrex Object Files\\\\python_files\\\\2_left_foot_gg_seated.npy', obj_test)"
   ]
  },
  {
   "cell_type": "code",
   "execution_count": 128,
   "id": "58fb7fbb-61d1-4a06-8b11-ea64ffee8848",
   "metadata": {},
   "outputs": [
    {
     "name": "stdout",
     "output_type": "stream",
     "text": [
      "[['v' '0.289346' '0.0637892' '0.00242001' nan]\n",
      " ['v' '0.289558' '0.0665683' '0.00246076' nan]\n",
      " ['v' '0.292281' '0.0656155' '0.00255228' nan]\n",
      " ...\n",
      " ['f' '6402//6402' '6396//6402' '6406//6402' '6403//6402']\n",
      " ['f' '6405//6403' '6404//6403' '6383//6403' '6403//6403']\n",
      " ['f' '6406//6404' '6392//6404' '6405//6404' '6403//6404']]\n"
     ]
    }
   ],
   "source": [
    "bb = np.load('C:\\\\Users\\\\Jesse Frank\\\\OneDrive - Specialized Bicycle Components\\\\Body Geometry team\\\\Projects\\\\Aetrex Object Files\\\\python_files\\\\2_left_foot_gg_seated.npy', allow_pickle = True)\n",
    "print(bb)"
   ]
  },
  {
   "cell_type": "code",
   "execution_count": 140,
   "id": "24c4343a-b68e-42a6-9bb9-62648972fba8",
   "metadata": {},
   "outputs": [],
   "source": [
    "from pyntcloud import PyntCloud"
   ]
  },
  {
   "cell_type": "code",
   "execution_count": 141,
   "id": "bf23bda9-c15a-48fb-ae17-74138ec3ef4a",
   "metadata": {},
   "outputs": [
    {
     "name": "stderr",
     "output_type": "stream",
     "text": [
      "C:\\Users\\Jesse Frank\\anaconda3\\lib\\site-packages\\pyntcloud\\core_class.py:130: FutureWarning: Could not cast to int32, falling back to object. This behavior is deprecated. In a future version, when a dtype is passed to 'DataFrame', either all columns will be cast to that dtype, or a TypeError will be raised\n",
      "  return cls(**FROM_FILE[ext](filename, **kwargs))\n"
     ]
    }
   ],
   "source": [
    "mpc = PyntCloud.from_file(fname)"
   ]
  },
  {
   "cell_type": "code",
   "execution_count": 144,
   "id": "9830c1d0-a9bd-49fe-9315-a3995a11e1d2",
   "metadata": {},
   "outputs": [],
   "source": [
    "ff = mpc.to_file('C:\\\\Users\\\\Jesse Frank\\\\OneDrive - Specialized Bicycle Components\\\\Body Geometry team\\\\Projects\\\\Aetrex Object Files\\\\python_files\\\\3_left_foot_gg_seated.npz')"
   ]
  },
  {
   "cell_type": "code",
   "execution_count": 147,
   "id": "724e7070-18a4-4bfc-9cc2-c01673015fd3",
   "metadata": {},
   "outputs": [],
   "source": [
    "np.save('C:\\\\Users\\\\Jesse Frank\\\\OneDrive - Specialized Bicycle Components\\\\Body Geometry team\\\\Projects\\\\Aetrex Object Files\\\\python_files\\\\3_left_foot_gg_seated.npy', 'C:\\\\Users\\\\Jesse Frank\\\\OneDrive - Specialized Bicycle Components\\\\Body Geometry team\\\\Projects\\\\Aetrex Object Files\\\\python_files\\\\3_left_foot_gg_seated.npy')"
   ]
  },
  {
   "cell_type": "code",
   "execution_count": null,
   "id": "0a33300e-5291-4411-bafa-59565ef0c3ba",
   "metadata": {},
   "outputs": [],
   "source": []
  }
 ],
 "metadata": {
  "kernelspec": {
   "display_name": "Python 3 (ipykernel)",
   "language": "python",
   "name": "python3"
  },
  "language_info": {
   "codemirror_mode": {
    "name": "ipython",
    "version": 3
   },
   "file_extension": ".py",
   "mimetype": "text/x-python",
   "name": "python",
   "nbconvert_exporter": "python",
   "pygments_lexer": "ipython3",
   "version": "3.9.7"
  }
 },
 "nbformat": 4,
 "nbformat_minor": 5
}
